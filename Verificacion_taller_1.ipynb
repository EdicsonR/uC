{
  "nbformat": 4,
  "nbformat_minor": 0,
  "metadata": {
    "colab": {
      "provenance": []
    },
    "kernelspec": {
      "name": "python3",
      "display_name": "Python 3"
    },
    "language_info": {
      "name": "python"
    }
  },
  "cells": [
    {
      "cell_type": "code",
      "execution_count": 3,
      "metadata": {
        "colab": {
          "base_uri": "https://localhost:8080/"
        },
        "id": "1S1RhtFfU8Ax",
        "outputId": "8301bfe7-aa97-485a-bd6d-5888c3da4504"
      },
      "outputs": [
        {
          "output_type": "stream",
          "name": "stdout",
          "text": [
            "La matriz original es:\n",
            "[[1. 2. 3.]\n",
            " [4. 5. 6.]\n",
            " [7. 8. 9.]]\n",
            "Ingrese el número del primer renglón a intercambiar (1, 2 o 3): 1\n",
            "Ingrese el número del segundo renglón a intercambiar (1, 2 o 3): 2\n",
            "La matriz con el cambio de renglones entre el renglón 1 y el renglón 2 es:\n",
            "[[4. 5. 6.]\n",
            " [1. 2. 3.]\n",
            " [7. 8. 9.]]\n",
            "Ingrese el número del renglón a multiplicar (1, 2 o 3): 2\n",
            "Ingrese la constante por la que se multiplicará el renglón: 2\n",
            "La matriz con el renglón 2 multiplicado por la constante 2.0 es:\n",
            "[[4. 5. 6.]\n",
            " [2. 4. 6.]\n",
            " [7. 8. 9.]]\n",
            "Ingrese el número del renglón a sumar (1, 2 o 3): 1\n",
            "Ingrese el número del renglón al que se sumará el resultado (1, 2 o 3): 3\n",
            "Ingrese la constante por la que se multiplicará el renglón a sumar: 3\n",
            "La matriz con el resultado de sumar 3.0 veces el renglón 1 al renglón 3 es:\n",
            "[[ 4.  5.  6.]\n",
            " [ 2.  4.  6.]\n",
            " [19. 23. 27.]]\n"
          ]
        }
      ],
      "source": [
        "import numpy as np\n",
        "\n",
        "# Función para realizar el cambio de renglones\n",
        "def cambiar_renglones(matriz, i, j):\n",
        "    matriz[[i, j]] = matriz[[j, i]]\n",
        "    return matriz\n",
        "\n",
        "# Ingreso de la matriz 3x3\n",
        "matriz = np.array([[1.0, 2.0, 3.0], [4.0, 5.0, 6.0], [7.0, 8.0, 9.0]])\n",
        "#matriz = np.zeros((3, 3))  # Crear una matriz 3x3 de ceros\n",
        "\"\"\"for i in range(3):\n",
        "    for j in range(3):\n",
        "        matriz[i][j] = float(input(f\"Ingrese el elemento en la fila {i+1} y la columna {j+1}: \"))\n",
        "\"\"\"\n",
        "print(\"La matriz original es:\")\n",
        "print(matriz)\n",
        "\n",
        "# Preguntar al usuario qué renglones desea cambiar\n",
        "renglon1 = int(input(\"Ingrese el número del primer renglón a intercambiar (1, 2 o 3): \"))\n",
        "renglon2 = int(input(\"Ingrese el número del segundo renglón a intercambiar (1, 2 o 3): \"))\n",
        "\n",
        "# Realizar el cambio de renglones\n",
        "nueva_matriz = cambiar_renglones(matriz, renglon1 - 1, renglon2 - 1)\n",
        "print(f\"La matriz con el cambio de renglones entre el renglón {renglon1} y el renglón {renglon2} es:\")\n",
        "print(nueva_matriz)\n",
        "def multiplicar_renglon_por_constante(matriz, renglon, constante):\n",
        "    matriz[renglon - 1] *= constante\n",
        "    return matriz\n",
        "renglon = int(input(\"Ingrese el número del renglón a multiplicar (1, 2 o 3): \"))\n",
        "constante = float(input(\"Ingrese la constante por la que se multiplicará el renglón: \"))\n",
        "\n",
        "# Realizar la multiplicación del renglón por la constante\n",
        "nueva_matriz = multiplicar_renglon_por_constante(matriz, renglon, constante)\n",
        "print(f\"La matriz con el renglón {renglon} multiplicado por la constante {constante} es:\")\n",
        "print(nueva_matriz)\n",
        "def sumar_multiplo_de_renglon(matriz, origen, destino, constante):\n",
        "    matriz[destino - 1] += constante * matriz[origen - 1]\n",
        "    return matriz\n",
        "renglon_origen = int(input(\"Ingrese el número del renglón a multiplicar(1, 2 o 3): \"))\n",
        "constante_sumar = float(input(\"Ingrese la constante por la que se multiplicará el renglón escogido: \"))\n",
        "renglon_destino = int(input(\"Ingrese el número del renglón al que se sumará el resultado del reglon anterior (1, 2 o 3): \"))\n",
        "\n",
        "\n",
        "# Realizar la suma del múltiplo del renglón al otro renglón\n",
        "matriz = sumar_multiplo_de_renglon(matriz, renglon_origen, renglon_destino, constante_sumar)\n",
        "print(f\"La matriz con el resultado de sumar {constante_sumar} veces el renglón {renglon_origen} al renglón {renglon_destino} es:\")\n",
        "print(matriz)"
      ]
    }
  ]
}