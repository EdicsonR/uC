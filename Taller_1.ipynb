{
  "nbformat": 4,
  "nbformat_minor": 0,
  "metadata": {
    "colab": {
      "provenance": []
    },
    "kernelspec": {
      "name": "python3",
      "display_name": "Python 3"
    },
    "language_info": {
      "name": "python"
    }
  },
  "cells": [
    {
      "cell_type": "code",
      "execution_count": null,
      "metadata": {
        "colab": {
          "base_uri": "https://localhost:8080/"
        },
        "id": "A_7ZSBaF1ArM",
        "outputId": "c8d59ffa-dc45-46ed-acaf-11ba41f8df6f"
      },
      "outputs": [
        {
          "output_type": "stream",
          "name": "stdout",
          "text": [
            "La matriz es : array('f', [1.0, 2.0, 3.0, 4.0, 5.0, 6.0, 7.0, 8.0, 9.0])\n",
            "Elemento (0, 0): 1.0\n",
            "Elemento (0, 1): 2.0\n",
            "Elemento (0, 2): 3.0\n",
            "Elemento (1, 0): 4.0\n",
            "Elemento (1, 1): 5.0\n",
            "Elemento (1, 2): 6.0\n",
            "Elemento (2, 0): 7.0\n",
            "Elemento (2, 1): 8.0\n",
            "Elemento (2, 2): 9.0\n",
            "array('f', [1.0, 2.0, 3.0, 4.0, 5.0, 6.0, 7.0, 8.0, 9.0])\n"
          ]
        }
      ],
      "source": [
        "from array import array\n",
        "# Representar una matriz 3x3 como un arreglo de 9 elementos\n",
        "A =array('f',[1, 2, 3, 4, 5, 6, 7, 8, 9])\n",
        "print(\"La matriz es :\",A)\n",
        "def element(A, i, j):\n",
        "  if 0 <= i < 3 and 0 <= j < 3:\n",
        "      # Calcular el índice en el arreglo basado en la posición (i, j) en la matriz\n",
        "      indice = i * 3 + j\n",
        "      # Devolver el elemento en la posición (i, j)\n",
        "      return A[indice]\n",
        "  else:\n",
        "      # Manejar el caso en el que los índices estén fuera de rango\n",
        "      return None\n",
        "\n",
        "elemento_00 = element(A, 0, 0)\n",
        "elemento_01=element(A,0,1)\n",
        "elemento_02 = element(A, 0,2)\n",
        "elemento_10 = element(A, 1, 0)\n",
        "elemento_11 = element(A, 1, 1)\n",
        "elemento_12=element(A,1,2)\n",
        "elemento_20 = element(A, 2, 0)\n",
        "elemento_21 = element(A, 2, 1)\n",
        "elemento_22 = element(A, 2, 2)\n",
        "print(\"Elemento (0, 0):\", elemento_00)\n",
        "print(\"Elemento (0, 1):\", elemento_01)\n",
        "print(\"Elemento (0, 2):\", elemento_02)\n",
        "print(\"Elemento (1, 0):\", elemento_10)\n",
        "print(\"Elemento (1, 1):\", elemento_11)\n",
        "print(\"Elemento (1, 2):\", elemento_12)\n",
        "print(\"Elemento (2, 0):\", elemento_20)\n",
        "print(\"Elemento (2, 1):\", elemento_21)\n",
        "print(\"Elemento (2, 2):\", elemento_22)\n",
        "\n",
        "#Operaciones elementales\n",
        "#intercambio de reglones\n",
        "\n",
        "def Cambioreglon(A, i, j):\n",
        "  while  i < 3 and j < 3:\n",
        "      # Calcular el índice en el arreglo basado en la posición (i, j) en la matriz\n",
        "      A[i,j] =A[i+1,j+1]\n",
        "      # Devolver el elemento en la posición (i, j)\n",
        "      A=A[i+1,j+1]\n",
        "      return A\n",
        "\n",
        "print(A)"
      ]
    }
  ]
}